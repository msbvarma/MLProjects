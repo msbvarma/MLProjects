{
 "cells": [
  {
   "cell_type": "markdown",
   "id": "9c6852f4",
   "metadata": {
    "id": "kK3alCdFflQX",
    "papermill": {
     "duration": 0.023335,
     "end_time": "2022-01-22T14:01:02.101542",
     "exception": false,
     "start_time": "2022-01-22T14:01:02.078207",
     "status": "completed"
    },
    "tags": []
   },
   "source": [
    "### CNN on CIFR Assignment:"
   ]
  },
  {
   "cell_type": "markdown",
   "id": "cb5a1481",
   "metadata": {
    "id": "cHCYMwwXflQd",
    "papermill": {
     "duration": 0.01995,
     "end_time": "2022-01-22T14:01:02.143504",
     "exception": false,
     "start_time": "2022-01-22T14:01:02.123554",
     "status": "completed"
    },
    "tags": []
   },
   "source": [
    "1.  Please visit this link to access the state-of-art DenseNet code for reference - DenseNet - cifar10 notebook link\n",
    "2.  You need to create a copy of this and \"retrain\" this model to achieve 90+ test accuracy. \n",
    "3.  You cannot use DropOut layers.\n",
    "4.  You MUST use Image Augmentation Techniques.\n",
    "5.  You cannot use an already trained model as a beginning points, you have to initilize as your own\n",
    "6.  You cannot run the program for more than 300 Epochs, and it should be clear from your log, that you have only used 300 Epochs\n",
    "7.  You cannot use test images for training the model.\n",
    "8.  You cannot change the general architecture of DenseNet (which means you must use Dense Block, Transition and Output blocks as mentioned in the code)\n",
    "9.  You are free to change Convolution types (e.g. from 3x3 normal convolution to Depthwise Separable, etc)\n",
    "10. You cannot have more than 1 Million parameters in total\n",
    "11. You are free to move the code from Keras to Tensorflow, Pytorch, MXNET etc. \n",
    "12. You can use any optimization algorithm you need. \n",
    "13. You can checkpoint your model and retrain the model from that checkpoint so that no need of training the model from first if you lost at any epoch while training. You can directly load that model and Train from that epoch. "
   ]
  },
  {
   "cell_type": "code",
   "execution_count": 1,
   "id": "4e8f5e6b",
   "metadata": {
    "execution": {
     "iopub.execute_input": "2022-01-22T14:01:02.194669Z",
     "iopub.status.busy": "2022-01-22T14:01:02.193871Z",
     "iopub.status.idle": "2022-01-22T14:01:07.062116Z",
     "shell.execute_reply": "2022-01-22T14:01:07.062643Z",
     "shell.execute_reply.started": "2022-01-22T13:26:05.379331Z"
    },
    "id": "TLVcyNYKflQi",
    "papermill": {
     "duration": 4.899281,
     "end_time": "2022-01-22T14:01:07.062911",
     "exception": false,
     "start_time": "2022-01-22T14:01:02.163630",
     "status": "completed"
    },
    "tags": []
   },
   "outputs": [],
   "source": [
    "from tensorflow.keras import models, layers\n",
    "from tensorflow.keras.models import Model\n",
    "from tensorflow.keras.layers import BatchNormalization, Activation, Flatten\n",
    "from tensorflow.keras.optimizers import Adam\n",
    "import warnings\n",
    "warnings.filterwarnings(\"ignore\")"
   ]
  },
  {
   "cell_type": "code",
   "execution_count": 2,
   "id": "f1a16269",
   "metadata": {
    "execution": {
     "iopub.execute_input": "2022-01-22T14:01:07.110180Z",
     "iopub.status.busy": "2022-01-22T14:01:07.108472Z",
     "iopub.status.idle": "2022-01-22T14:01:07.110818Z",
     "shell.execute_reply": "2022-01-22T14:01:07.111230Z",
     "shell.execute_reply.started": "2022-01-22T13:26:10.547013Z"
    },
    "id": "oM6iP1KHjfQ0",
    "papermill": {
     "duration": 0.027672,
     "end_time": "2022-01-22T14:01:07.111358",
     "exception": false,
     "start_time": "2022-01-22T14:01:07.083686",
     "status": "completed"
    },
    "tags": []
   },
   "outputs": [],
   "source": [
    "import tensorflow as tf"
   ]
  },
  {
   "cell_type": "code",
   "execution_count": 3,
   "id": "44667e65",
   "metadata": {
    "execution": {
     "iopub.execute_input": "2022-01-22T14:01:07.156078Z",
     "iopub.status.busy": "2022-01-22T14:01:07.155276Z",
     "iopub.status.idle": "2022-01-22T14:01:07.157242Z",
     "shell.execute_reply": "2022-01-22T14:01:07.157616Z",
     "shell.execute_reply.started": "2022-01-22T13:26:10.553176Z"
    },
    "id": "7yCPouEajoMJ",
    "papermill": {
     "duration": 0.026344,
     "end_time": "2022-01-22T14:01:07.157742",
     "exception": false,
     "start_time": "2022-01-22T14:01:07.131398",
     "status": "completed"
    },
    "tags": []
   },
   "outputs": [],
   "source": [
    "# Hyperparameters\n",
    "batch_size = 128\n",
    "epochs = 10\n",
    "l = 40\n",
    "num_filter = 12\n",
    "compression = 1"
   ]
  },
  {
   "cell_type": "markdown",
   "id": "a919460a",
   "metadata": {
    "id": "HzdRtwH5jy9_",
    "papermill": {
     "duration": 0.01997,
     "end_time": "2022-01-22T14:01:07.197932",
     "exception": false,
     "start_time": "2022-01-22T14:01:07.177962",
     "status": "completed"
    },
    "tags": []
   },
   "source": [
    "#### Load Data"
   ]
  },
  {
   "cell_type": "code",
   "execution_count": 4,
   "id": "21f4b84e",
   "metadata": {
    "execution": {
     "iopub.execute_input": "2022-01-22T14:01:07.245344Z",
     "iopub.status.busy": "2022-01-22T14:01:07.244570Z",
     "iopub.status.idle": "2022-01-22T14:01:15.426722Z",
     "shell.execute_reply": "2022-01-22T14:01:15.426165Z",
     "shell.execute_reply.started": "2022-01-22T13:26:10.566484Z"
    },
    "id": "e_5ia3cxjwms",
    "outputId": "d25c5642-82d8-4dff-9954-cdbee9cc97b1",
    "papermill": {
     "duration": 8.207121,
     "end_time": "2022-01-22T14:01:15.426853",
     "exception": false,
     "start_time": "2022-01-22T14:01:07.219732",
     "status": "completed"
    },
    "tags": []
   },
   "outputs": [
    {
     "name": "stdout",
     "output_type": "stream",
     "text": [
      "Downloading data from https://www.cs.toronto.edu/~kriz/cifar-10-python.tar.gz\n",
      "170500096/170498071 [==============================] - 6s 0us/step\n",
      "170508288/170498071 [==============================] - 6s 0us/step\n"
     ]
    }
   ],
   "source": [
    "# Load CIFAR10 Data\n",
    "(X_train, y_train), (X_test, y_test) = tf.keras.datasets.cifar10.load_data()\n",
    "img_height, img_width, channel = X_train.shape[1],X_train.shape[2],X_train.shape[3]\n",
    "\n",
    "\n"
   ]
  },
  {
   "cell_type": "code",
   "execution_count": 5,
   "id": "aabe445c",
   "metadata": {
    "execution": {
     "iopub.execute_input": "2022-01-22T14:01:15.535712Z",
     "iopub.status.busy": "2022-01-22T14:01:15.534062Z",
     "iopub.status.idle": "2022-01-22T14:01:15.552035Z",
     "shell.execute_reply": "2022-01-22T14:01:15.552668Z",
     "shell.execute_reply.started": "2022-01-22T13:26:16.307988Z"
    },
    "papermill": {
     "duration": 0.073444,
     "end_time": "2022-01-22T14:01:15.552859",
     "exception": false,
     "start_time": "2022-01-22T14:01:15.479415",
     "status": "completed"
    },
    "tags": []
   },
   "outputs": [
    {
     "name": "stdout",
     "output_type": "stream",
     "text": [
      "[[   0 5000]\n",
      " [   1 5000]\n",
      " [   2 5000]\n",
      " [   3 5000]\n",
      " [   4 5000]\n",
      " [   5 5000]\n",
      " [   6 5000]\n",
      " [   7 5000]\n",
      " [   8 5000]\n",
      " [   9 5000]]\n"
     ]
    }
   ],
   "source": [
    "\n",
    "import numpy as np\n",
    "unique, counts = np.unique(y_train, return_counts=True)\n",
    "\n",
    "print (np.asarray((unique, counts)).T)"
   ]
  },
  {
   "cell_type": "code",
   "execution_count": 6,
   "id": "c6ff1140",
   "metadata": {
    "execution": {
     "iopub.execute_input": "2022-01-22T14:01:15.804456Z",
     "iopub.status.busy": "2022-01-22T14:01:15.802734Z",
     "iopub.status.idle": "2022-01-22T14:01:15.807540Z",
     "shell.execute_reply": "2022-01-22T14:01:15.806867Z",
     "shell.execute_reply.started": "2022-01-22T13:26:16.322458Z"
    },
    "papermill": {
     "duration": 0.160465,
     "end_time": "2022-01-22T14:01:15.807837",
     "exception": false,
     "start_time": "2022-01-22T14:01:15.647372",
     "status": "completed"
    },
    "tags": []
   },
   "outputs": [],
   "source": [
    "#ytrain for classweigth\n",
    "y_tr = y_train.copy()\n",
    "# convert to one hot encoing \n",
    "num_classes=10\n",
    "y_train = tf.keras.utils.to_categorical(y_train, num_classes)\n",
    "y_test = tf.keras.utils.to_categorical(y_test, num_classes) \n"
   ]
  },
  {
   "cell_type": "code",
   "execution_count": 7,
   "id": "9b7f9e65",
   "metadata": {
    "execution": {
     "iopub.execute_input": "2022-01-22T14:01:15.973059Z",
     "iopub.status.busy": "2022-01-22T14:01:15.972168Z",
     "iopub.status.idle": "2022-01-22T14:01:15.975367Z",
     "shell.execute_reply": "2022-01-22T14:01:15.976143Z",
     "shell.execute_reply.started": "2022-01-22T13:26:16.538986Z"
    },
    "id": "A7RrUsAUkGfO",
    "outputId": "c2da8d68-29be-4c43-c052-31a6ba57d573",
    "papermill": {
     "duration": 0.084488,
     "end_time": "2022-01-22T14:01:15.976332",
     "exception": false,
     "start_time": "2022-01-22T14:01:15.891844",
     "status": "completed"
    },
    "tags": []
   },
   "outputs": [
    {
     "name": "stdout",
     "output_type": "stream",
     "text": [
      "(50000, 32, 32, 3)\n",
      "(10000, 32, 32, 3)\n"
     ]
    }
   ],
   "source": [
    "print(X_train.shape)\n",
    "print(X_test.shape)"
   ]
  },
  {
   "cell_type": "markdown",
   "id": "f038a8ac",
   "metadata": {
    "id": "6X3M24qZtI5C",
    "papermill": {
     "duration": 0.085111,
     "end_time": "2022-01-22T14:01:16.140913",
     "exception": false,
     "start_time": "2022-01-22T14:01:16.055802",
     "status": "completed"
    },
    "tags": []
   },
   "source": [
    "#### Datageneration and Augumentation"
   ]
  },
  {
   "cell_type": "code",
   "execution_count": 8,
   "id": "80de938e",
   "metadata": {
    "execution": {
     "iopub.execute_input": "2022-01-22T14:01:16.292001Z",
     "iopub.status.busy": "2022-01-22T14:01:16.290971Z",
     "iopub.status.idle": "2022-01-22T14:01:16.292785Z",
     "shell.execute_reply": "2022-01-22T14:01:16.293407Z",
     "shell.execute_reply.started": "2022-01-22T13:26:16.547336Z"
    },
    "id": "tFZq2jtSsxcj",
    "papermill": {
     "duration": 0.066328,
     "end_time": "2022-01-22T14:01:16.293554",
     "exception": false,
     "start_time": "2022-01-22T14:01:16.227226",
     "status": "completed"
    },
    "tags": []
   },
   "outputs": [],
   "source": [
    "from keras_preprocessing.image import ImageDataGenerator\n",
    "datagen=ImageDataGenerator(rotation_range=15,\n",
    "        width_shift_range=0.1,\n",
    "        height_shift_range=0.1,\n",
    "        shear_range=0.1,\n",
    "        zoom_range=0.1,\n",
    "        horizontal_flip=True,\n",
    "        fill_mode='nearest',rescale=1./255.,validation_split=0.25)"
   ]
  },
  {
   "cell_type": "code",
   "execution_count": 9,
   "id": "e9a430a9",
   "metadata": {
    "execution": {
     "iopub.execute_input": "2022-01-22T14:01:16.414734Z",
     "iopub.status.busy": "2022-01-22T14:01:16.413999Z",
     "iopub.status.idle": "2022-01-22T14:01:16.417359Z",
     "shell.execute_reply": "2022-01-22T14:01:16.417829Z",
     "shell.execute_reply.started": "2022-01-22T13:26:16.555789Z"
    },
    "papermill": {
     "duration": 0.067069,
     "end_time": "2022-01-22T14:01:16.418002",
     "exception": false,
     "start_time": "2022-01-22T14:01:16.350933",
     "status": "completed"
    },
    "tags": []
   },
   "outputs": [
    {
     "data": {
      "text/plain": [
       "array([[0., 0., 0., ..., 0., 0., 0.],\n",
       "       [0., 0., 0., ..., 0., 0., 1.],\n",
       "       [0., 0., 0., ..., 0., 0., 1.],\n",
       "       ...,\n",
       "       [0., 0., 0., ..., 0., 0., 1.],\n",
       "       [0., 1., 0., ..., 0., 0., 0.],\n",
       "       [0., 1., 0., ..., 0., 0., 0.]], dtype=float32)"
      ]
     },
     "execution_count": 9,
     "metadata": {},
     "output_type": "execute_result"
    }
   ],
   "source": [
    "y_train"
   ]
  },
  {
   "cell_type": "code",
   "execution_count": 10,
   "id": "1bd38b60",
   "metadata": {
    "execution": {
     "iopub.execute_input": "2022-01-22T14:01:16.524907Z",
     "iopub.status.busy": "2022-01-22T14:01:16.522272Z",
     "iopub.status.idle": "2022-01-22T14:01:16.651053Z",
     "shell.execute_reply": "2022-01-22T14:01:16.650517Z",
     "shell.execute_reply.started": "2022-01-22T13:26:16.571687Z"
    },
    "id": "E2Qi0AQat_hZ",
    "papermill": {
     "duration": 0.179435,
     "end_time": "2022-01-22T14:01:16.651177",
     "exception": false,
     "start_time": "2022-01-22T14:01:16.471742",
     "status": "completed"
    },
    "tags": []
   },
   "outputs": [],
   "source": [
    "train_generator=datagen.flow(\n",
    "    X_train, y_train, batch_size=128, shuffle=True, sample_weight=None, seed=None,\n",
    "    save_to_dir=None, save_prefix='', save_format='png',\n",
    "    subset='training'\n",
    ")\n"
   ]
  },
  {
   "cell_type": "code",
   "execution_count": 11,
   "id": "0c00fb9a",
   "metadata": {
    "execution": {
     "iopub.execute_input": "2022-01-22T14:01:16.751012Z",
     "iopub.status.busy": "2022-01-22T14:01:16.750251Z",
     "iopub.status.idle": "2022-01-22T14:01:16.803249Z",
     "shell.execute_reply": "2022-01-22T14:01:16.802637Z",
     "shell.execute_reply.started": "2022-01-22T13:26:16.707243Z"
    },
    "id": "dcAHvm8GwpiW",
    "papermill": {
     "duration": 0.104996,
     "end_time": "2022-01-22T14:01:16.803374",
     "exception": false,
     "start_time": "2022-01-22T14:01:16.698378",
     "status": "completed"
    },
    "tags": []
   },
   "outputs": [],
   "source": [
    "valid_generator=datagen.flow(\n",
    "    X_train, y_train, batch_size=128, shuffle=True, sample_weight=None, seed=None,\n",
    "    save_to_dir=None, save_prefix='', save_format='png',\n",
    "    subset='validation'\n",
    ")"
   ]
  },
  {
   "cell_type": "code",
   "execution_count": 12,
   "id": "a145102e",
   "metadata": {
    "execution": {
     "iopub.execute_input": "2022-01-22T14:01:16.902529Z",
     "iopub.status.busy": "2022-01-22T14:01:16.901498Z",
     "iopub.status.idle": "2022-01-22T14:01:16.935258Z",
     "shell.execute_reply": "2022-01-22T14:01:16.934747Z",
     "shell.execute_reply.started": "2022-01-22T13:26:16.765882Z"
    },
    "id": "NRwQAwyxuxRN",
    "papermill": {
     "duration": 0.085118,
     "end_time": "2022-01-22T14:01:16.935400",
     "exception": false,
     "start_time": "2022-01-22T14:01:16.850282",
     "status": "completed"
    },
    "tags": []
   },
   "outputs": [],
   "source": [
    "testDatagen=ImageDataGenerator(rescale=1./255.)\n",
    "test_generator=testDatagen.flow(\n",
    "    X_test,batch_size=1\n",
    ")"
   ]
  },
  {
   "cell_type": "markdown",
   "id": "b13af616",
   "metadata": {
    "id": "5jApqN2ns8D8",
    "papermill": {
     "duration": 0.046754,
     "end_time": "2022-01-22T14:01:17.029233",
     "exception": false,
     "start_time": "2022-01-22T14:01:16.982479",
     "status": "completed"
    },
    "tags": []
   },
   "source": [
    "#### CallBacks\n"
   ]
  },
  {
   "cell_type": "code",
   "execution_count": 13,
   "id": "19234125",
   "metadata": {
    "execution": {
     "iopub.execute_input": "2022-01-22T14:01:17.146761Z",
     "iopub.status.busy": "2022-01-22T14:01:17.146094Z",
     "iopub.status.idle": "2022-01-22T14:01:17.158223Z",
     "shell.execute_reply": "2022-01-22T14:01:17.157652Z",
     "shell.execute_reply.started": "2022-01-22T13:26:16.803764Z"
    },
    "id": "KnTepTiBtAQL",
    "papermill": {
     "duration": 0.077281,
     "end_time": "2022-01-22T14:01:17.158357",
     "exception": false,
     "start_time": "2022-01-22T14:01:17.081076",
     "status": "completed"
    },
    "tags": []
   },
   "outputs": [],
   "source": [
    "from tensorflow.keras.callbacks import ModelCheckpoint\n",
    "%load_ext tensorboard\n",
    "from keras.models import Sequential\n",
    "from tensorflow.keras.callbacks import LearningRateScheduler\n",
    "#Decaying Learning rate using epoch\n",
    "def changeLearningRate(epoch, lr):\n",
    "    if (epoch+1)%5==0:\n",
    "        return lr*0.90\n",
    "    else:\n",
    "        return lr\n",
    "lrschedule = LearningRateScheduler(changeLearningRate, verbose=1)\n",
    "\n",
    "from tensorflow.keras.callbacks import ReduceLROnPlateau\n",
    "reduce_lr = ReduceLROnPlateau(monitor='val_accuracy', factor=0.9, patience=5)\n",
    "\n",
    "from tensorflow.keras.callbacks import TerminateOnNaN\n",
    "loss_terminate = TerminateOnNaN()\n",
    "\n",
    "\n",
    "from tensorflow.keras.callbacks import EarlyStopping\n",
    "earlystop = EarlyStopping(monitor='val_accuracy', min_delta=0.0001, patience=15)"
   ]
  },
  {
   "cell_type": "markdown",
   "id": "1c827f1f",
   "metadata": {
    "id": "kjpcPOwdtE52",
    "papermill": {
     "duration": 0.053819,
     "end_time": "2022-01-22T14:01:17.266663",
     "exception": false,
     "start_time": "2022-01-22T14:01:17.212844",
     "status": "completed"
    },
    "tags": []
   },
   "source": [
    "#### Model"
   ]
  },
  {
   "cell_type": "code",
   "execution_count": 14,
   "id": "cd15021a",
   "metadata": {
    "execution": {
     "iopub.execute_input": "2022-01-22T14:01:17.387991Z",
     "iopub.status.busy": "2022-01-22T14:01:17.387089Z",
     "iopub.status.idle": "2022-01-22T14:01:17.389807Z",
     "shell.execute_reply": "2022-01-22T14:01:17.389297Z",
     "shell.execute_reply.started": "2022-01-22T13:26:16.826903Z"
    },
    "id": "dL0yT9BRsF41",
    "papermill": {
     "duration": 0.070171,
     "end_time": "2022-01-22T14:01:17.389954",
     "exception": false,
     "start_time": "2022-01-22T14:01:17.319783",
     "status": "completed"
    },
    "tags": []
   },
   "outputs": [],
   "source": [
    "# Dense Block\n",
    "def denseblock(input, num_filter = 12, dropout_rate = 0):\n",
    "    global compression\n",
    "    temp = input\n",
    "    for _ in range(l): \n",
    "        BatchNorm = layers.BatchNormalization()(temp)\n",
    "        relu = layers.Activation('relu')(BatchNorm)\n",
    "        Conv2D_3_3 = layers.SeparableConv2D(int(num_filter*compression), (3,3), use_bias=False ,padding='same')(relu)\n",
    "        if dropout_rate>0:\n",
    "            Conv2D_3_3 = layers.Dropout(dropout_rate)(Conv2D_3_3)\n",
    "        concat = layers.Concatenate(axis=-1)([temp,Conv2D_3_3])\n",
    "        \n",
    "        temp = concat\n",
    "        \n",
    "    return temp\n",
    "\n",
    "## transition Block\n",
    "def transition(input, num_filter = 12, dropout_rate = 0):\n",
    "    global compression\n",
    "    BatchNorm = layers.BatchNormalization()(input)\n",
    "    relu = layers.Activation('relu')(BatchNorm)\n",
    "    Conv2D_BottleNeck = layers.SeparableConv2D(int(num_filter*compression), (1,1), use_bias=False ,padding='same')(relu)\n",
    "    if dropout_rate>0:\n",
    "         Conv2D_BottleNeck = layers.Dropout(dropout_rate)(Conv2D_BottleNeck)\n",
    "    avg = layers.AveragePooling2D(pool_size=(2,2))(Conv2D_BottleNeck)\n",
    "    return avg\n",
    "\n",
    "#output layer\n",
    "def output_layer(input):\n",
    "    global compression\n",
    "    BatchNorm = layers.BatchNormalization()(input)\n",
    "    relu = layers.Activation('relu')(BatchNorm)\n",
    "    AvgPooling = layers.AveragePooling2D(pool_size=(2,2))(relu)\n",
    "    flat = layers.Flatten()(AvgPooling)\n",
    "    output = layers.Dense(num_classes, activation='softmax')(flat)\n",
    "    return output"
   ]
  },
  {
   "cell_type": "code",
   "execution_count": 15,
   "id": "47b920ee",
   "metadata": {
    "execution": {
     "iopub.execute_input": "2022-01-22T14:01:17.501074Z",
     "iopub.status.busy": "2022-01-22T14:01:17.500391Z",
     "iopub.status.idle": "2022-01-22T14:01:20.759527Z",
     "shell.execute_reply": "2022-01-22T14:01:20.759061Z",
     "shell.execute_reply.started": "2022-01-22T13:26:16.841978Z"
    },
    "id": "JTmkr42usIjE",
    "papermill": {
     "duration": 3.317013,
     "end_time": "2022-01-22T14:01:20.759657",
     "exception": false,
     "start_time": "2022-01-22T14:01:17.442644",
     "status": "completed"
    },
    "tags": []
   },
   "outputs": [
    {
     "name": "stderr",
     "output_type": "stream",
     "text": [
      "2022-01-22 14:01:17.584746: I tensorflow/stream_executor/cuda/cuda_gpu_executor.cc:937] successful NUMA node read from SysFS had negative value (-1), but there must be at least one NUMA node, so returning NUMA node zero\n",
      "2022-01-22 14:01:17.686737: I tensorflow/stream_executor/cuda/cuda_gpu_executor.cc:937] successful NUMA node read from SysFS had negative value (-1), but there must be at least one NUMA node, so returning NUMA node zero\n",
      "2022-01-22 14:01:17.687466: I tensorflow/stream_executor/cuda/cuda_gpu_executor.cc:937] successful NUMA node read from SysFS had negative value (-1), but there must be at least one NUMA node, so returning NUMA node zero\n",
      "2022-01-22 14:01:17.689270: I tensorflow/core/platform/cpu_feature_guard.cc:142] This TensorFlow binary is optimized with oneAPI Deep Neural Network Library (oneDNN) to use the following CPU instructions in performance-critical operations:  AVX2 AVX512F FMA\n",
      "To enable them in other operations, rebuild TensorFlow with the appropriate compiler flags.\n",
      "2022-01-22 14:01:17.690256: I tensorflow/stream_executor/cuda/cuda_gpu_executor.cc:937] successful NUMA node read from SysFS had negative value (-1), but there must be at least one NUMA node, so returning NUMA node zero\n",
      "2022-01-22 14:01:17.690898: I tensorflow/stream_executor/cuda/cuda_gpu_executor.cc:937] successful NUMA node read from SysFS had negative value (-1), but there must be at least one NUMA node, so returning NUMA node zero\n",
      "2022-01-22 14:01:17.691513: I tensorflow/stream_executor/cuda/cuda_gpu_executor.cc:937] successful NUMA node read from SysFS had negative value (-1), but there must be at least one NUMA node, so returning NUMA node zero\n",
      "2022-01-22 14:01:19.444509: I tensorflow/stream_executor/cuda/cuda_gpu_executor.cc:937] successful NUMA node read from SysFS had negative value (-1), but there must be at least one NUMA node, so returning NUMA node zero\n",
      "2022-01-22 14:01:19.445339: I tensorflow/stream_executor/cuda/cuda_gpu_executor.cc:937] successful NUMA node read from SysFS had negative value (-1), but there must be at least one NUMA node, so returning NUMA node zero\n",
      "2022-01-22 14:01:19.445970: I tensorflow/stream_executor/cuda/cuda_gpu_executor.cc:937] successful NUMA node read from SysFS had negative value (-1), but there must be at least one NUMA node, so returning NUMA node zero\n",
      "2022-01-22 14:01:19.446573: I tensorflow/core/common_runtime/gpu/gpu_device.cc:1510] Created device /job:localhost/replica:0/task:0/device:GPU:0 with 15403 MB memory:  -> device: 0, name: Tesla P100-PCIE-16GB, pci bus id: 0000:00:04.0, compute capability: 6.0\n"
     ]
    }
   ],
   "source": [
    "num_filter = 46\n",
    "dropout_rate = 0\n",
    "l = 12\n",
    "input = layers.Input(shape=(img_height, img_width, channel,))\n",
    "First_Conv2D = layers.SeparableConv2D(num_filter, (3,3), use_bias=False ,padding='same')(input)\n",
    "\n",
    "First_Block = denseblock(First_Conv2D, num_filter, dropout_rate)\n",
    "First_Transition = transition(First_Block, num_filter, dropout_rate)\n",
    "\n",
    "Second_Block = denseblock(First_Transition, num_filter, dropout_rate)\n",
    "Second_Transition = transition(Second_Block, num_filter, dropout_rate)\n",
    "\n",
    "Third_Block = denseblock(Second_Transition, num_filter, dropout_rate)\n",
    "Third_Transition = transition(Third_Block, num_filter, dropout_rate)\n",
    "\n",
    "Last_Block = denseblock(Third_Transition,  num_filter, dropout_rate)\n",
    "output = output_layer(Last_Block)"
   ]
  },
  {
   "cell_type": "markdown",
   "id": "2c6055d2",
   "metadata": {
    "id": "Hxia-K_-xfNt",
    "papermill": {
     "duration": 0.048465,
     "end_time": "2022-01-22T14:01:20.856336",
     "exception": false,
     "start_time": "2022-01-22T14:01:20.807871",
     "status": "completed"
    },
    "tags": []
   },
   "source": [
    "##### Summary"
   ]
  },
  {
   "cell_type": "code",
   "execution_count": 16,
   "id": "a7855c68",
   "metadata": {
    "execution": {
     "iopub.execute_input": "2022-01-22T14:01:20.958149Z",
     "iopub.status.busy": "2022-01-22T14:01:20.957319Z",
     "iopub.status.idle": "2022-01-22T14:01:21.070613Z",
     "shell.execute_reply": "2022-01-22T14:01:21.071236Z",
     "shell.execute_reply.started": "2022-01-22T13:26:20.249210Z"
    },
    "id": "VvOSmlxIsLtb",
    "outputId": "5a54fe21-4fc8-4e79-b15a-9c422cb6ce65",
    "papermill": {
     "duration": 0.167397,
     "end_time": "2022-01-22T14:01:21.071442",
     "exception": false,
     "start_time": "2022-01-22T14:01:20.904045",
     "status": "completed"
    },
    "tags": []
   },
   "outputs": [
    {
     "name": "stdout",
     "output_type": "stream",
     "text": [
      "Model: \"model\"\n",
      "__________________________________________________________________________________________________\n",
      "Layer (type)                    Output Shape         Param #     Connected to                     \n",
      "==================================================================================================\n",
      "input_1 (InputLayer)            [(None, 32, 32, 3)]  0                                            \n",
      "__________________________________________________________________________________________________\n",
      "separable_conv2d (SeparableConv (None, 32, 32, 46)   165         input_1[0][0]                    \n",
      "__________________________________________________________________________________________________\n",
      "batch_normalization (BatchNorma (None, 32, 32, 46)   184         separable_conv2d[0][0]           \n",
      "__________________________________________________________________________________________________\n",
      "activation (Activation)         (None, 32, 32, 46)   0           batch_normalization[0][0]        \n",
      "__________________________________________________________________________________________________\n",
      "separable_conv2d_1 (SeparableCo (None, 32, 32, 46)   2530        activation[0][0]                 \n",
      "__________________________________________________________________________________________________\n",
      "concatenate (Concatenate)       (None, 32, 32, 92)   0           separable_conv2d[0][0]           \n",
      "                                                                 separable_conv2d_1[0][0]         \n",
      "__________________________________________________________________________________________________\n",
      "batch_normalization_1 (BatchNor (None, 32, 32, 92)   368         concatenate[0][0]                \n",
      "__________________________________________________________________________________________________\n",
      "activation_1 (Activation)       (None, 32, 32, 92)   0           batch_normalization_1[0][0]      \n",
      "__________________________________________________________________________________________________\n",
      "separable_conv2d_2 (SeparableCo (None, 32, 32, 46)   5060        activation_1[0][0]               \n",
      "__________________________________________________________________________________________________\n",
      "concatenate_1 (Concatenate)     (None, 32, 32, 138)  0           concatenate[0][0]                \n",
      "                                                                 separable_conv2d_2[0][0]         \n",
      "__________________________________________________________________________________________________\n",
      "batch_normalization_2 (BatchNor (None, 32, 32, 138)  552         concatenate_1[0][0]              \n",
      "__________________________________________________________________________________________________\n",
      "activation_2 (Activation)       (None, 32, 32, 138)  0           batch_normalization_2[0][0]      \n",
      "__________________________________________________________________________________________________\n",
      "separable_conv2d_3 (SeparableCo (None, 32, 32, 46)   7590        activation_2[0][0]               \n",
      "__________________________________________________________________________________________________\n",
      "concatenate_2 (Concatenate)     (None, 32, 32, 184)  0           concatenate_1[0][0]              \n",
      "                                                                 separable_conv2d_3[0][0]         \n",
      "__________________________________________________________________________________________________\n",
      "batch_normalization_3 (BatchNor (None, 32, 32, 184)  736         concatenate_2[0][0]              \n",
      "__________________________________________________________________________________________________\n",
      "activation_3 (Activation)       (None, 32, 32, 184)  0           batch_normalization_3[0][0]      \n",
      "__________________________________________________________________________________________________\n",
      "separable_conv2d_4 (SeparableCo (None, 32, 32, 46)   10120       activation_3[0][0]               \n",
      "__________________________________________________________________________________________________\n",
      "concatenate_3 (Concatenate)     (None, 32, 32, 230)  0           concatenate_2[0][0]              \n",
      "                                                                 separable_conv2d_4[0][0]         \n",
      "__________________________________________________________________________________________________\n",
      "batch_normalization_4 (BatchNor (None, 32, 32, 230)  920         concatenate_3[0][0]              \n",
      "__________________________________________________________________________________________________\n",
      "activation_4 (Activation)       (None, 32, 32, 230)  0           batch_normalization_4[0][0]      \n",
      "__________________________________________________________________________________________________\n",
      "separable_conv2d_5 (SeparableCo (None, 32, 32, 46)   12650       activation_4[0][0]               \n",
      "__________________________________________________________________________________________________\n",
      "concatenate_4 (Concatenate)     (None, 32, 32, 276)  0           concatenate_3[0][0]              \n",
      "                                                                 separable_conv2d_5[0][0]         \n",
      "__________________________________________________________________________________________________\n",
      "batch_normalization_5 (BatchNor (None, 32, 32, 276)  1104        concatenate_4[0][0]              \n",
      "__________________________________________________________________________________________________\n",
      "activation_5 (Activation)       (None, 32, 32, 276)  0           batch_normalization_5[0][0]      \n",
      "__________________________________________________________________________________________________\n",
      "separable_conv2d_6 (SeparableCo (None, 32, 32, 46)   15180       activation_5[0][0]               \n",
      "__________________________________________________________________________________________________\n",
      "concatenate_5 (Concatenate)     (None, 32, 32, 322)  0           concatenate_4[0][0]              \n",
      "                                                                 separable_conv2d_6[0][0]         \n",
      "__________________________________________________________________________________________________\n",
      "batch_normalization_6 (BatchNor (None, 32, 32, 322)  1288        concatenate_5[0][0]              \n",
      "__________________________________________________________________________________________________\n",
      "activation_6 (Activation)       (None, 32, 32, 322)  0           batch_normalization_6[0][0]      \n",
      "__________________________________________________________________________________________________\n",
      "separable_conv2d_7 (SeparableCo (None, 32, 32, 46)   17710       activation_6[0][0]               \n",
      "__________________________________________________________________________________________________\n",
      "concatenate_6 (Concatenate)     (None, 32, 32, 368)  0           concatenate_5[0][0]              \n",
      "                                                                 separable_conv2d_7[0][0]         \n",
      "__________________________________________________________________________________________________\n",
      "batch_normalization_7 (BatchNor (None, 32, 32, 368)  1472        concatenate_6[0][0]              \n",
      "__________________________________________________________________________________________________\n",
      "activation_7 (Activation)       (None, 32, 32, 368)  0           batch_normalization_7[0][0]      \n",
      "__________________________________________________________________________________________________\n",
      "separable_conv2d_8 (SeparableCo (None, 32, 32, 46)   20240       activation_7[0][0]               \n",
      "__________________________________________________________________________________________________\n",
      "concatenate_7 (Concatenate)     (None, 32, 32, 414)  0           concatenate_6[0][0]              \n",
      "                                                                 separable_conv2d_8[0][0]         \n",
      "__________________________________________________________________________________________________\n",
      "batch_normalization_8 (BatchNor (None, 32, 32, 414)  1656        concatenate_7[0][0]              \n",
      "__________________________________________________________________________________________________\n",
      "activation_8 (Activation)       (None, 32, 32, 414)  0           batch_normalization_8[0][0]      \n",
      "__________________________________________________________________________________________________\n",
      "separable_conv2d_9 (SeparableCo (None, 32, 32, 46)   22770       activation_8[0][0]               \n",
      "__________________________________________________________________________________________________\n",
      "concatenate_8 (Concatenate)     (None, 32, 32, 460)  0           concatenate_7[0][0]              \n",
      "                                                                 separable_conv2d_9[0][0]         \n",
      "__________________________________________________________________________________________________\n",
      "batch_normalization_9 (BatchNor (None, 32, 32, 460)  1840        concatenate_8[0][0]              \n",
      "__________________________________________________________________________________________________\n",
      "activation_9 (Activation)       (None, 32, 32, 460)  0           batch_normalization_9[0][0]      \n",
      "__________________________________________________________________________________________________\n",
      "separable_conv2d_10 (SeparableC (None, 32, 32, 46)   25300       activation_9[0][0]               \n",
      "__________________________________________________________________________________________________\n",
      "concatenate_9 (Concatenate)     (None, 32, 32, 506)  0           concatenate_8[0][0]              \n",
      "                                                                 separable_conv2d_10[0][0]        \n",
      "__________________________________________________________________________________________________\n",
      "batch_normalization_10 (BatchNo (None, 32, 32, 506)  2024        concatenate_9[0][0]              \n",
      "__________________________________________________________________________________________________\n",
      "activation_10 (Activation)      (None, 32, 32, 506)  0           batch_normalization_10[0][0]     \n",
      "__________________________________________________________________________________________________\n",
      "separable_conv2d_11 (SeparableC (None, 32, 32, 46)   27830       activation_10[0][0]              \n",
      "__________________________________________________________________________________________________\n",
      "concatenate_10 (Concatenate)    (None, 32, 32, 552)  0           concatenate_9[0][0]              \n",
      "                                                                 separable_conv2d_11[0][0]        \n",
      "__________________________________________________________________________________________________\n",
      "batch_normalization_11 (BatchNo (None, 32, 32, 552)  2208        concatenate_10[0][0]             \n",
      "__________________________________________________________________________________________________\n",
      "activation_11 (Activation)      (None, 32, 32, 552)  0           batch_normalization_11[0][0]     \n",
      "__________________________________________________________________________________________________\n",
      "separable_conv2d_12 (SeparableC (None, 32, 32, 46)   30360       activation_11[0][0]              \n",
      "__________________________________________________________________________________________________\n",
      "concatenate_11 (Concatenate)    (None, 32, 32, 598)  0           concatenate_10[0][0]             \n",
      "                                                                 separable_conv2d_12[0][0]        \n",
      "__________________________________________________________________________________________________\n",
      "batch_normalization_12 (BatchNo (None, 32, 32, 598)  2392        concatenate_11[0][0]             \n",
      "__________________________________________________________________________________________________\n",
      "activation_12 (Activation)      (None, 32, 32, 598)  0           batch_normalization_12[0][0]     \n",
      "__________________________________________________________________________________________________\n",
      "separable_conv2d_13 (SeparableC (None, 32, 32, 46)   28106       activation_12[0][0]              \n",
      "__________________________________________________________________________________________________\n",
      "average_pooling2d (AveragePooli (None, 16, 16, 46)   0           separable_conv2d_13[0][0]        \n",
      "__________________________________________________________________________________________________\n",
      "batch_normalization_13 (BatchNo (None, 16, 16, 46)   184         average_pooling2d[0][0]          \n",
      "__________________________________________________________________________________________________\n",
      "activation_13 (Activation)      (None, 16, 16, 46)   0           batch_normalization_13[0][0]     \n",
      "__________________________________________________________________________________________________\n",
      "separable_conv2d_14 (SeparableC (None, 16, 16, 46)   2530        activation_13[0][0]              \n",
      "__________________________________________________________________________________________________\n",
      "concatenate_12 (Concatenate)    (None, 16, 16, 92)   0           average_pooling2d[0][0]          \n",
      "                                                                 separable_conv2d_14[0][0]        \n",
      "__________________________________________________________________________________________________\n",
      "batch_normalization_14 (BatchNo (None, 16, 16, 92)   368         concatenate_12[0][0]             \n",
      "__________________________________________________________________________________________________\n",
      "activation_14 (Activation)      (None, 16, 16, 92)   0           batch_normalization_14[0][0]     \n",
      "__________________________________________________________________________________________________\n",
      "separable_conv2d_15 (SeparableC (None, 16, 16, 46)   5060        activation_14[0][0]              \n",
      "__________________________________________________________________________________________________\n",
      "concatenate_13 (Concatenate)    (None, 16, 16, 138)  0           concatenate_12[0][0]             \n",
      "                                                                 separable_conv2d_15[0][0]        \n",
      "__________________________________________________________________________________________________\n",
      "batch_normalization_15 (BatchNo (None, 16, 16, 138)  552         concatenate_13[0][0]             \n",
      "__________________________________________________________________________________________________\n",
      "activation_15 (Activation)      (None, 16, 16, 138)  0           batch_normalization_15[0][0]     \n",
      "__________________________________________________________________________________________________\n",
      "separable_conv2d_16 (SeparableC (None, 16, 16, 46)   7590        activation_15[0][0]              \n",
      "__________________________________________________________________________________________________\n",
      "concatenate_14 (Concatenate)    (None, 16, 16, 184)  0           concatenate_13[0][0]             \n",
      "                                                                 separable_conv2d_16[0][0]        \n",
      "__________________________________________________________________________________________________\n",
      "batch_normalization_16 (BatchNo (None, 16, 16, 184)  736         concatenate_14[0][0]             \n",
      "__________________________________________________________________________________________________\n",
      "activation_16 (Activation)      (None, 16, 16, 184)  0           batch_normalization_16[0][0]     \n",
      "__________________________________________________________________________________________________\n",
      "separable_conv2d_17 (SeparableC (None, 16, 16, 46)   10120       activation_16[0][0]              \n",
      "__________________________________________________________________________________________________\n",
      "concatenate_15 (Concatenate)    (None, 16, 16, 230)  0           concatenate_14[0][0]             \n",
      "                                                                 separable_conv2d_17[0][0]        \n",
      "__________________________________________________________________________________________________\n",
      "batch_normalization_17 (BatchNo (None, 16, 16, 230)  920         concatenate_15[0][0]             \n",
      "__________________________________________________________________________________________________\n",
      "activation_17 (Activation)      (None, 16, 16, 230)  0           batch_normalization_17[0][0]     \n",
      "__________________________________________________________________________________________________\n",
      "separable_conv2d_18 (SeparableC (None, 16, 16, 46)   12650       activation_17[0][0]              \n",
      "__________________________________________________________________________________________________\n",
      "concatenate_16 (Concatenate)    (None, 16, 16, 276)  0           concatenate_15[0][0]             \n",
      "                                                                 separable_conv2d_18[0][0]        \n",
      "__________________________________________________________________________________________________\n",
      "batch_normalization_18 (BatchNo (None, 16, 16, 276)  1104        concatenate_16[0][0]             \n",
      "__________________________________________________________________________________________________\n",
      "activation_18 (Activation)      (None, 16, 16, 276)  0           batch_normalization_18[0][0]     \n",
      "__________________________________________________________________________________________________\n",
      "separable_conv2d_19 (SeparableC (None, 16, 16, 46)   15180       activation_18[0][0]              \n",
      "__________________________________________________________________________________________________\n",
      "concatenate_17 (Concatenate)    (None, 16, 16, 322)  0           concatenate_16[0][0]             \n",
      "                                                                 separable_conv2d_19[0][0]        \n",
      "__________________________________________________________________________________________________\n",
      "batch_normalization_19 (BatchNo (None, 16, 16, 322)  1288        concatenate_17[0][0]             \n",
      "__________________________________________________________________________________________________\n",
      "activation_19 (Activation)      (None, 16, 16, 322)  0           batch_normalization_19[0][0]     \n",
      "__________________________________________________________________________________________________\n",
      "separable_conv2d_20 (SeparableC (None, 16, 16, 46)   17710       activation_19[0][0]              \n",
      "__________________________________________________________________________________________________\n",
      "concatenate_18 (Concatenate)    (None, 16, 16, 368)  0           concatenate_17[0][0]             \n",
      "                                                                 separable_conv2d_20[0][0]        \n",
      "__________________________________________________________________________________________________\n",
      "batch_normalization_20 (BatchNo (None, 16, 16, 368)  1472        concatenate_18[0][0]             \n",
      "__________________________________________________________________________________________________\n",
      "activation_20 (Activation)      (None, 16, 16, 368)  0           batch_normalization_20[0][0]     \n",
      "__________________________________________________________________________________________________\n",
      "separable_conv2d_21 (SeparableC (None, 16, 16, 46)   20240       activation_20[0][0]              \n",
      "__________________________________________________________________________________________________\n",
      "concatenate_19 (Concatenate)    (None, 16, 16, 414)  0           concatenate_18[0][0]             \n",
      "                                                                 separable_conv2d_21[0][0]        \n",
      "__________________________________________________________________________________________________\n",
      "batch_normalization_21 (BatchNo (None, 16, 16, 414)  1656        concatenate_19[0][0]             \n",
      "__________________________________________________________________________________________________\n",
      "activation_21 (Activation)      (None, 16, 16, 414)  0           batch_normalization_21[0][0]     \n",
      "__________________________________________________________________________________________________\n",
      "separable_conv2d_22 (SeparableC (None, 16, 16, 46)   22770       activation_21[0][0]              \n",
      "__________________________________________________________________________________________________\n",
      "concatenate_20 (Concatenate)    (None, 16, 16, 460)  0           concatenate_19[0][0]             \n",
      "                                                                 separable_conv2d_22[0][0]        \n",
      "__________________________________________________________________________________________________\n",
      "batch_normalization_22 (BatchNo (None, 16, 16, 460)  1840        concatenate_20[0][0]             \n",
      "__________________________________________________________________________________________________\n",
      "activation_22 (Activation)      (None, 16, 16, 460)  0           batch_normalization_22[0][0]     \n",
      "__________________________________________________________________________________________________\n",
      "separable_conv2d_23 (SeparableC (None, 16, 16, 46)   25300       activation_22[0][0]              \n",
      "__________________________________________________________________________________________________\n",
      "concatenate_21 (Concatenate)    (None, 16, 16, 506)  0           concatenate_20[0][0]             \n",
      "                                                                 separable_conv2d_23[0][0]        \n",
      "__________________________________________________________________________________________________\n",
      "batch_normalization_23 (BatchNo (None, 16, 16, 506)  2024        concatenate_21[0][0]             \n",
      "__________________________________________________________________________________________________\n",
      "activation_23 (Activation)      (None, 16, 16, 506)  0           batch_normalization_23[0][0]     \n",
      "__________________________________________________________________________________________________\n",
      "separable_conv2d_24 (SeparableC (None, 16, 16, 46)   27830       activation_23[0][0]              \n",
      "__________________________________________________________________________________________________\n",
      "concatenate_22 (Concatenate)    (None, 16, 16, 552)  0           concatenate_21[0][0]             \n",
      "                                                                 separable_conv2d_24[0][0]        \n",
      "__________________________________________________________________________________________________\n",
      "batch_normalization_24 (BatchNo (None, 16, 16, 552)  2208        concatenate_22[0][0]             \n",
      "__________________________________________________________________________________________________\n",
      "activation_24 (Activation)      (None, 16, 16, 552)  0           batch_normalization_24[0][0]     \n",
      "__________________________________________________________________________________________________\n",
      "separable_conv2d_25 (SeparableC (None, 16, 16, 46)   30360       activation_24[0][0]              \n",
      "__________________________________________________________________________________________________\n",
      "concatenate_23 (Concatenate)    (None, 16, 16, 598)  0           concatenate_22[0][0]             \n",
      "                                                                 separable_conv2d_25[0][0]        \n",
      "__________________________________________________________________________________________________\n",
      "batch_normalization_25 (BatchNo (None, 16, 16, 598)  2392        concatenate_23[0][0]             \n",
      "__________________________________________________________________________________________________\n",
      "activation_25 (Activation)      (None, 16, 16, 598)  0           batch_normalization_25[0][0]     \n",
      "__________________________________________________________________________________________________\n",
      "separable_conv2d_26 (SeparableC (None, 16, 16, 46)   28106       activation_25[0][0]              \n",
      "__________________________________________________________________________________________________\n",
      "average_pooling2d_1 (AveragePoo (None, 8, 8, 46)     0           separable_conv2d_26[0][0]        \n",
      "__________________________________________________________________________________________________\n",
      "batch_normalization_26 (BatchNo (None, 8, 8, 46)     184         average_pooling2d_1[0][0]        \n",
      "__________________________________________________________________________________________________\n",
      "activation_26 (Activation)      (None, 8, 8, 46)     0           batch_normalization_26[0][0]     \n",
      "__________________________________________________________________________________________________\n",
      "separable_conv2d_27 (SeparableC (None, 8, 8, 46)     2530        activation_26[0][0]              \n",
      "__________________________________________________________________________________________________\n",
      "concatenate_24 (Concatenate)    (None, 8, 8, 92)     0           average_pooling2d_1[0][0]        \n",
      "                                                                 separable_conv2d_27[0][0]        \n",
      "__________________________________________________________________________________________________\n",
      "batch_normalization_27 (BatchNo (None, 8, 8, 92)     368         concatenate_24[0][0]             \n",
      "__________________________________________________________________________________________________\n",
      "activation_27 (Activation)      (None, 8, 8, 92)     0           batch_normalization_27[0][0]     \n",
      "__________________________________________________________________________________________________\n",
      "separable_conv2d_28 (SeparableC (None, 8, 8, 46)     5060        activation_27[0][0]              \n",
      "__________________________________________________________________________________________________\n",
      "concatenate_25 (Concatenate)    (None, 8, 8, 138)    0           concatenate_24[0][0]             \n",
      "                                                                 separable_conv2d_28[0][0]        \n",
      "__________________________________________________________________________________________________\n",
      "batch_normalization_28 (BatchNo (None, 8, 8, 138)    552         concatenate_25[0][0]             \n",
      "__________________________________________________________________________________________________\n",
      "activation_28 (Activation)      (None, 8, 8, 138)    0           batch_normalization_28[0][0]     \n",
      "__________________________________________________________________________________________________\n",
      "separable_conv2d_29 (SeparableC (None, 8, 8, 46)     7590        activation_28[0][0]              \n",
      "__________________________________________________________________________________________________\n",
      "concatenate_26 (Concatenate)    (None, 8, 8, 184)    0           concatenate_25[0][0]             \n",
      "                                                                 separable_conv2d_29[0][0]        \n",
      "__________________________________________________________________________________________________\n",
      "batch_normalization_29 (BatchNo (None, 8, 8, 184)    736         concatenate_26[0][0]             \n",
      "__________________________________________________________________________________________________\n",
      "activation_29 (Activation)      (None, 8, 8, 184)    0           batch_normalization_29[0][0]     \n",
      "__________________________________________________________________________________________________\n",
      "separable_conv2d_30 (SeparableC (None, 8, 8, 46)     10120       activation_29[0][0]              \n",
      "__________________________________________________________________________________________________\n",
      "concatenate_27 (Concatenate)    (None, 8, 8, 230)    0           concatenate_26[0][0]             \n",
      "                                                                 separable_conv2d_30[0][0]        \n",
      "__________________________________________________________________________________________________\n",
      "batch_normalization_30 (BatchNo (None, 8, 8, 230)    920         concatenate_27[0][0]             \n",
      "__________________________________________________________________________________________________\n",
      "activation_30 (Activation)      (None, 8, 8, 230)    0           batch_normalization_30[0][0]     \n",
      "__________________________________________________________________________________________________\n",
      "separable_conv2d_31 (SeparableC (None, 8, 8, 46)     12650       activation_30[0][0]              \n",
      "__________________________________________________________________________________________________\n",
      "concatenate_28 (Concatenate)    (None, 8, 8, 276)    0           concatenate_27[0][0]             \n",
      "                                                                 separable_conv2d_31[0][0]        \n",
      "__________________________________________________________________________________________________\n",
      "batch_normalization_31 (BatchNo (None, 8, 8, 276)    1104        concatenate_28[0][0]             \n",
      "__________________________________________________________________________________________________\n",
      "activation_31 (Activation)      (None, 8, 8, 276)    0           batch_normalization_31[0][0]     \n",
      "__________________________________________________________________________________________________\n",
      "separable_conv2d_32 (SeparableC (None, 8, 8, 46)     15180       activation_31[0][0]              \n",
      "__________________________________________________________________________________________________\n",
      "concatenate_29 (Concatenate)    (None, 8, 8, 322)    0           concatenate_28[0][0]             \n",
      "                                                                 separable_conv2d_32[0][0]        \n",
      "__________________________________________________________________________________________________\n",
      "batch_normalization_32 (BatchNo (None, 8, 8, 322)    1288        concatenate_29[0][0]             \n",
      "__________________________________________________________________________________________________\n",
      "activation_32 (Activation)      (None, 8, 8, 322)    0           batch_normalization_32[0][0]     \n",
      "__________________________________________________________________________________________________\n",
      "separable_conv2d_33 (SeparableC (None, 8, 8, 46)     17710       activation_32[0][0]              \n",
      "__________________________________________________________________________________________________\n",
      "concatenate_30 (Concatenate)    (None, 8, 8, 368)    0           concatenate_29[0][0]             \n",
      "                                                                 separable_conv2d_33[0][0]        \n",
      "__________________________________________________________________________________________________\n",
      "batch_normalization_33 (BatchNo (None, 8, 8, 368)    1472        concatenate_30[0][0]             \n",
      "__________________________________________________________________________________________________\n",
      "activation_33 (Activation)      (None, 8, 8, 368)    0           batch_normalization_33[0][0]     \n",
      "__________________________________________________________________________________________________\n",
      "separable_conv2d_34 (SeparableC (None, 8, 8, 46)     20240       activation_33[0][0]              \n",
      "__________________________________________________________________________________________________\n",
      "concatenate_31 (Concatenate)    (None, 8, 8, 414)    0           concatenate_30[0][0]             \n",
      "                                                                 separable_conv2d_34[0][0]        \n",
      "__________________________________________________________________________________________________\n",
      "batch_normalization_34 (BatchNo (None, 8, 8, 414)    1656        concatenate_31[0][0]             \n",
      "__________________________________________________________________________________________________\n",
      "activation_34 (Activation)      (None, 8, 8, 414)    0           batch_normalization_34[0][0]     \n",
      "__________________________________________________________________________________________________\n",
      "separable_conv2d_35 (SeparableC (None, 8, 8, 46)     22770       activation_34[0][0]              \n",
      "__________________________________________________________________________________________________\n",
      "concatenate_32 (Concatenate)    (None, 8, 8, 460)    0           concatenate_31[0][0]             \n",
      "                                                                 separable_conv2d_35[0][0]        \n",
      "__________________________________________________________________________________________________\n",
      "batch_normalization_35 (BatchNo (None, 8, 8, 460)    1840        concatenate_32[0][0]             \n",
      "__________________________________________________________________________________________________\n",
      "activation_35 (Activation)      (None, 8, 8, 460)    0           batch_normalization_35[0][0]     \n",
      "__________________________________________________________________________________________________\n",
      "separable_conv2d_36 (SeparableC (None, 8, 8, 46)     25300       activation_35[0][0]              \n",
      "__________________________________________________________________________________________________\n",
      "concatenate_33 (Concatenate)    (None, 8, 8, 506)    0           concatenate_32[0][0]             \n",
      "                                                                 separable_conv2d_36[0][0]        \n",
      "__________________________________________________________________________________________________\n",
      "batch_normalization_36 (BatchNo (None, 8, 8, 506)    2024        concatenate_33[0][0]             \n",
      "__________________________________________________________________________________________________\n",
      "activation_36 (Activation)      (None, 8, 8, 506)    0           batch_normalization_36[0][0]     \n",
      "__________________________________________________________________________________________________\n",
      "separable_conv2d_37 (SeparableC (None, 8, 8, 46)     27830       activation_36[0][0]              \n",
      "__________________________________________________________________________________________________\n",
      "concatenate_34 (Concatenate)    (None, 8, 8, 552)    0           concatenate_33[0][0]             \n",
      "                                                                 separable_conv2d_37[0][0]        \n",
      "__________________________________________________________________________________________________\n",
      "batch_normalization_37 (BatchNo (None, 8, 8, 552)    2208        concatenate_34[0][0]             \n",
      "__________________________________________________________________________________________________\n",
      "activation_37 (Activation)      (None, 8, 8, 552)    0           batch_normalization_37[0][0]     \n",
      "__________________________________________________________________________________________________\n",
      "separable_conv2d_38 (SeparableC (None, 8, 8, 46)     30360       activation_37[0][0]              \n",
      "__________________________________________________________________________________________________\n",
      "concatenate_35 (Concatenate)    (None, 8, 8, 598)    0           concatenate_34[0][0]             \n",
      "                                                                 separable_conv2d_38[0][0]        \n",
      "__________________________________________________________________________________________________\n",
      "batch_normalization_38 (BatchNo (None, 8, 8, 598)    2392        concatenate_35[0][0]             \n",
      "__________________________________________________________________________________________________\n",
      "activation_38 (Activation)      (None, 8, 8, 598)    0           batch_normalization_38[0][0]     \n",
      "__________________________________________________________________________________________________\n",
      "separable_conv2d_39 (SeparableC (None, 8, 8, 46)     28106       activation_38[0][0]              \n",
      "__________________________________________________________________________________________________\n",
      "average_pooling2d_2 (AveragePoo (None, 4, 4, 46)     0           separable_conv2d_39[0][0]        \n",
      "__________________________________________________________________________________________________\n",
      "batch_normalization_39 (BatchNo (None, 4, 4, 46)     184         average_pooling2d_2[0][0]        \n",
      "__________________________________________________________________________________________________\n",
      "activation_39 (Activation)      (None, 4, 4, 46)     0           batch_normalization_39[0][0]     \n",
      "__________________________________________________________________________________________________\n",
      "separable_conv2d_40 (SeparableC (None, 4, 4, 46)     2530        activation_39[0][0]              \n",
      "__________________________________________________________________________________________________\n",
      "concatenate_36 (Concatenate)    (None, 4, 4, 92)     0           average_pooling2d_2[0][0]        \n",
      "                                                                 separable_conv2d_40[0][0]        \n",
      "__________________________________________________________________________________________________\n",
      "batch_normalization_40 (BatchNo (None, 4, 4, 92)     368         concatenate_36[0][0]             \n",
      "__________________________________________________________________________________________________\n",
      "activation_40 (Activation)      (None, 4, 4, 92)     0           batch_normalization_40[0][0]     \n",
      "__________________________________________________________________________________________________\n",
      "separable_conv2d_41 (SeparableC (None, 4, 4, 46)     5060        activation_40[0][0]              \n",
      "__________________________________________________________________________________________________\n",
      "concatenate_37 (Concatenate)    (None, 4, 4, 138)    0           concatenate_36[0][0]             \n",
      "                                                                 separable_conv2d_41[0][0]        \n",
      "__________________________________________________________________________________________________\n",
      "batch_normalization_41 (BatchNo (None, 4, 4, 138)    552         concatenate_37[0][0]             \n",
      "__________________________________________________________________________________________________\n",
      "activation_41 (Activation)      (None, 4, 4, 138)    0           batch_normalization_41[0][0]     \n",
      "__________________________________________________________________________________________________\n",
      "separable_conv2d_42 (SeparableC (None, 4, 4, 46)     7590        activation_41[0][0]              \n",
      "__________________________________________________________________________________________________\n",
      "concatenate_38 (Concatenate)    (None, 4, 4, 184)    0           concatenate_37[0][0]             \n",
      "                                                                 separable_conv2d_42[0][0]        \n",
      "__________________________________________________________________________________________________\n",
      "batch_normalization_42 (BatchNo (None, 4, 4, 184)    736         concatenate_38[0][0]             \n",
      "__________________________________________________________________________________________________\n",
      "activation_42 (Activation)      (None, 4, 4, 184)    0           batch_normalization_42[0][0]     \n",
      "__________________________________________________________________________________________________\n",
      "separable_conv2d_43 (SeparableC (None, 4, 4, 46)     10120       activation_42[0][0]              \n",
      "__________________________________________________________________________________________________\n",
      "concatenate_39 (Concatenate)    (None, 4, 4, 230)    0           concatenate_38[0][0]             \n",
      "                                                                 separable_conv2d_43[0][0]        \n",
      "__________________________________________________________________________________________________\n",
      "batch_normalization_43 (BatchNo (None, 4, 4, 230)    920         concatenate_39[0][0]             \n",
      "__________________________________________________________________________________________________\n",
      "activation_43 (Activation)      (None, 4, 4, 230)    0           batch_normalization_43[0][0]     \n",
      "__________________________________________________________________________________________________\n",
      "separable_conv2d_44 (SeparableC (None, 4, 4, 46)     12650       activation_43[0][0]              \n",
      "__________________________________________________________________________________________________\n",
      "concatenate_40 (Concatenate)    (None, 4, 4, 276)    0           concatenate_39[0][0]             \n",
      "                                                                 separable_conv2d_44[0][0]        \n",
      "__________________________________________________________________________________________________\n",
      "batch_normalization_44 (BatchNo (None, 4, 4, 276)    1104        concatenate_40[0][0]             \n",
      "__________________________________________________________________________________________________\n",
      "activation_44 (Activation)      (None, 4, 4, 276)    0           batch_normalization_44[0][0]     \n",
      "__________________________________________________________________________________________________\n",
      "separable_conv2d_45 (SeparableC (None, 4, 4, 46)     15180       activation_44[0][0]              \n",
      "__________________________________________________________________________________________________\n",
      "concatenate_41 (Concatenate)    (None, 4, 4, 322)    0           concatenate_40[0][0]             \n",
      "                                                                 separable_conv2d_45[0][0]        \n",
      "__________________________________________________________________________________________________\n",
      "batch_normalization_45 (BatchNo (None, 4, 4, 322)    1288        concatenate_41[0][0]             \n",
      "__________________________________________________________________________________________________\n",
      "activation_45 (Activation)      (None, 4, 4, 322)    0           batch_normalization_45[0][0]     \n",
      "__________________________________________________________________________________________________\n",
      "separable_conv2d_46 (SeparableC (None, 4, 4, 46)     17710       activation_45[0][0]              \n",
      "__________________________________________________________________________________________________\n",
      "concatenate_42 (Concatenate)    (None, 4, 4, 368)    0           concatenate_41[0][0]             \n",
      "                                                                 separable_conv2d_46[0][0]        \n",
      "__________________________________________________________________________________________________\n",
      "batch_normalization_46 (BatchNo (None, 4, 4, 368)    1472        concatenate_42[0][0]             \n",
      "__________________________________________________________________________________________________\n",
      "activation_46 (Activation)      (None, 4, 4, 368)    0           batch_normalization_46[0][0]     \n",
      "__________________________________________________________________________________________________\n",
      "separable_conv2d_47 (SeparableC (None, 4, 4, 46)     20240       activation_46[0][0]              \n",
      "__________________________________________________________________________________________________\n",
      "concatenate_43 (Concatenate)    (None, 4, 4, 414)    0           concatenate_42[0][0]             \n",
      "                                                                 separable_conv2d_47[0][0]        \n",
      "__________________________________________________________________________________________________\n",
      "batch_normalization_47 (BatchNo (None, 4, 4, 414)    1656        concatenate_43[0][0]             \n",
      "__________________________________________________________________________________________________\n",
      "activation_47 (Activation)      (None, 4, 4, 414)    0           batch_normalization_47[0][0]     \n",
      "__________________________________________________________________________________________________\n",
      "separable_conv2d_48 (SeparableC (None, 4, 4, 46)     22770       activation_47[0][0]              \n",
      "__________________________________________________________________________________________________\n",
      "concatenate_44 (Concatenate)    (None, 4, 4, 460)    0           concatenate_43[0][0]             \n",
      "                                                                 separable_conv2d_48[0][0]        \n",
      "__________________________________________________________________________________________________\n",
      "batch_normalization_48 (BatchNo (None, 4, 4, 460)    1840        concatenate_44[0][0]             \n",
      "__________________________________________________________________________________________________\n",
      "activation_48 (Activation)      (None, 4, 4, 460)    0           batch_normalization_48[0][0]     \n",
      "__________________________________________________________________________________________________\n",
      "separable_conv2d_49 (SeparableC (None, 4, 4, 46)     25300       activation_48[0][0]              \n",
      "__________________________________________________________________________________________________\n",
      "concatenate_45 (Concatenate)    (None, 4, 4, 506)    0           concatenate_44[0][0]             \n",
      "                                                                 separable_conv2d_49[0][0]        \n",
      "__________________________________________________________________________________________________\n",
      "batch_normalization_49 (BatchNo (None, 4, 4, 506)    2024        concatenate_45[0][0]             \n",
      "__________________________________________________________________________________________________\n",
      "activation_49 (Activation)      (None, 4, 4, 506)    0           batch_normalization_49[0][0]     \n",
      "__________________________________________________________________________________________________\n",
      "separable_conv2d_50 (SeparableC (None, 4, 4, 46)     27830       activation_49[0][0]              \n",
      "__________________________________________________________________________________________________\n",
      "concatenate_46 (Concatenate)    (None, 4, 4, 552)    0           concatenate_45[0][0]             \n",
      "                                                                 separable_conv2d_50[0][0]        \n",
      "__________________________________________________________________________________________________\n",
      "batch_normalization_50 (BatchNo (None, 4, 4, 552)    2208        concatenate_46[0][0]             \n",
      "__________________________________________________________________________________________________\n",
      "activation_50 (Activation)      (None, 4, 4, 552)    0           batch_normalization_50[0][0]     \n",
      "__________________________________________________________________________________________________\n",
      "separable_conv2d_51 (SeparableC (None, 4, 4, 46)     30360       activation_50[0][0]              \n",
      "__________________________________________________________________________________________________\n",
      "concatenate_47 (Concatenate)    (None, 4, 4, 598)    0           concatenate_46[0][0]             \n",
      "                                                                 separable_conv2d_51[0][0]        \n",
      "__________________________________________________________________________________________________\n",
      "batch_normalization_51 (BatchNo (None, 4, 4, 598)    2392        concatenate_47[0][0]             \n",
      "__________________________________________________________________________________________________\n",
      "activation_51 (Activation)      (None, 4, 4, 598)    0           batch_normalization_51[0][0]     \n",
      "__________________________________________________________________________________________________\n",
      "average_pooling2d_3 (AveragePoo (None, 2, 2, 598)    0           activation_51[0][0]              \n",
      "__________________________________________________________________________________________________\n",
      "flatten (Flatten)               (None, 2392)         0           average_pooling2d_3[0][0]        \n",
      "__________________________________________________________________________________________________\n",
      "dense (Dense)                   (None, 10)           23930       flatten[0][0]                    \n",
      "==================================================================================================\n",
      "Total params: 964,749\n",
      "Trainable params: 931,261\n",
      "Non-trainable params: 33,488\n",
      "__________________________________________________________________________________________________\n"
     ]
    }
   ],
   "source": [
    "model = Model(inputs=[input], outputs=[output])\n",
    "model.summary()"
   ]
  },
  {
   "cell_type": "code",
   "execution_count": 17,
   "id": "dcf25be0",
   "metadata": {
    "execution": {
     "iopub.execute_input": "2022-01-22T14:01:21.188172Z",
     "iopub.status.busy": "2022-01-22T14:01:21.187468Z",
     "iopub.status.idle": "2022-01-22T14:01:21.190766Z",
     "shell.execute_reply": "2022-01-22T14:01:21.191475Z",
     "shell.execute_reply.started": "2022-01-22T13:26:20.359204Z"
    },
    "id": "LkddL40XsR6C",
    "outputId": "e0a7fb2a-149f-4cb6-e9ab-0a06b2dc1a5c",
    "papermill": {
     "duration": 0.064194,
     "end_time": "2022-01-22T14:01:21.191676",
     "exception": false,
     "start_time": "2022-01-22T14:01:21.127482",
     "status": "completed"
    },
    "tags": []
   },
   "outputs": [
    {
     "name": "stdout",
     "output_type": "stream",
     "text": [
      "211\n"
     ]
    }
   ],
   "source": [
    "print(len(model.layers))"
   ]
  },
  {
   "cell_type": "code",
   "execution_count": 18,
   "id": "45e465ff",
   "metadata": {
    "execution": {
     "iopub.execute_input": "2022-01-22T14:01:21.318737Z",
     "iopub.status.busy": "2022-01-22T14:01:21.312531Z",
     "iopub.status.idle": "2022-01-22T14:01:21.320399Z",
     "shell.execute_reply": "2022-01-22T14:01:21.322805Z",
     "shell.execute_reply.started": "2022-01-22T13:26:20.367179Z"
    },
    "id": "YFASs7tAyfzF",
    "papermill": {
     "duration": 0.075368,
     "end_time": "2022-01-22T14:01:21.323180",
     "exception": false,
     "start_time": "2022-01-22T14:01:21.247812",
     "status": "completed"
    },
    "tags": []
   },
   "outputs": [],
   "source": [
    "import os\n",
    "import datetime"
   ]
  },
  {
   "cell_type": "code",
   "execution_count": 19,
   "id": "2607fde2",
   "metadata": {
    "execution": {
     "iopub.execute_input": "2022-01-22T14:01:21.463620Z",
     "iopub.status.busy": "2022-01-22T14:01:21.462878Z",
     "iopub.status.idle": "2022-01-22T14:01:22.143833Z",
     "shell.execute_reply": "2022-01-22T14:01:22.144401Z",
     "shell.execute_reply.started": "2022-01-22T13:26:20.376472Z"
    },
    "id": "NcqlTpKyZgPJ",
    "papermill": {
     "duration": 0.737363,
     "end_time": "2022-01-22T14:01:22.144559",
     "exception": false,
     "start_time": "2022-01-22T14:01:21.407196",
     "status": "completed"
    },
    "tags": []
   },
   "outputs": [
    {
     "data": {
      "text/plain": [
       "{0: 1.0,\n",
       " 1: 1.0,\n",
       " 2: 1.0,\n",
       " 3: 1.0,\n",
       " 4: 1.0,\n",
       " 5: 1.0,\n",
       " 6: 1.0,\n",
       " 7: 1.0,\n",
       " 8: 1.0,\n",
       " 9: 1.0}"
      ]
     },
     "execution_count": 19,
     "metadata": {},
     "output_type": "execute_result"
    }
   ],
   "source": [
    "#https://datascience.stackexchange.com/questions/13490/how-to-set-class-weights-for-imbalanced-classes-in-keras\n",
    "from sklearn.utils import class_weight\n",
    "import numpy as np\n",
    "class_weights = class_weight.compute_class_weight(class_weight = \"balanced\",\n",
    "                                        classes = list(np.unique(y_tr)),\n",
    "                                        y = y_tr[:,0] )\n",
    "class_weight_dict = dict(enumerate(class_weights))\n",
    "class_weight_dict\n",
    "\n"
   ]
  },
  {
   "cell_type": "code",
   "execution_count": 20,
   "id": "bc01ee57",
   "metadata": {
    "execution": {
     "iopub.execute_input": "2022-01-22T14:01:22.271549Z",
     "iopub.status.busy": "2022-01-22T14:01:22.270539Z",
     "iopub.status.idle": "2022-01-22T14:22:41.962256Z",
     "shell.execute_reply": "2022-01-22T14:22:41.962749Z",
     "shell.execute_reply.started": "2022-01-22T13:26:20.906142Z"
    },
    "id": "-l9-_3bnsUO_",
    "outputId": "63a67d25-c252-4e81-ac3a-96b70a8b3d2a",
    "papermill": {
     "duration": 1279.763028,
     "end_time": "2022-01-22T14:22:41.962905",
     "exception": false,
     "start_time": "2022-01-22T14:01:22.199877",
     "status": "completed"
    },
    "tags": []
   },
   "outputs": [
    {
     "name": "stderr",
     "output_type": "stream",
     "text": [
      "2022-01-22 14:01:22.985839: I tensorflow/core/profiler/lib/profiler_session.cc:131] Profiler session initializing.\n",
      "2022-01-22 14:01:22.985900: I tensorflow/core/profiler/lib/profiler_session.cc:146] Profiler session started.\n",
      "2022-01-22 14:01:22.987988: I tensorflow/core/profiler/internal/gpu/cupti_tracer.cc:1614] Profiler found 1 GPUs\n",
      "2022-01-22 14:01:23.280433: I tensorflow/core/profiler/lib/profiler_session.cc:164] Profiler session tear down.\n",
      "2022-01-22 14:01:23.280625: I tensorflow/core/profiler/internal/gpu/cupti_tracer.cc:1748] CUPTI activity buffer flushed\n",
      "2022-01-22 14:01:23.660077: I tensorflow/compiler/mlir/mlir_graph_optimization_pass.cc:185] None of the MLIR Optimization Passes are enabled (registered 2)\n"
     ]
    },
    {
     "name": "stdout",
     "output_type": "stream",
     "text": [
      "Epoch 1/10\n",
      "\n",
      "Epoch 00001: LearningRateScheduler setting learning rate to 0.0010000000474974513.\n"
     ]
    },
    {
     "name": "stderr",
     "output_type": "stream",
     "text": [
      "2022-01-22 14:01:30.228907: I tensorflow/stream_executor/cuda/cuda_dnn.cc:369] Loaded cuDNN version 8005\n"
     ]
    },
    {
     "name": "stdout",
     "output_type": "stream",
     "text": [
      "  1/292 [..............................] - ETA: 1:03:12 - loss: 2.4566 - accuracy: 0.0859"
     ]
    },
    {
     "name": "stderr",
     "output_type": "stream",
     "text": [
      "2022-01-22 14:01:36.890660: I tensorflow/core/profiler/lib/profiler_session.cc:131] Profiler session initializing.\n",
      "2022-01-22 14:01:36.890712: I tensorflow/core/profiler/lib/profiler_session.cc:146] Profiler session started.\n"
     ]
    },
    {
     "name": "stdout",
     "output_type": "stream",
     "text": [
      "  2/292 [..............................] - ETA: 4:06 - loss: 2.5939 - accuracy: 0.1133   "
     ]
    },
    {
     "name": "stderr",
     "output_type": "stream",
     "text": [
      "2022-01-22 14:01:37.589857: I tensorflow/core/profiler/lib/profiler_session.cc:66] Profiler session collecting data.\n",
      "2022-01-22 14:01:37.593241: I tensorflow/core/profiler/internal/gpu/cupti_tracer.cc:1748] CUPTI activity buffer flushed\n",
      "2022-01-22 14:01:37.782138: I tensorflow/core/profiler/internal/gpu/cupti_collector.cc:673]  GpuTracer has collected 1587 callback api events and 1584 activity events. \n",
      "2022-01-22 14:01:37.858289: I tensorflow/core/profiler/lib/profiler_session.cc:164] Profiler session tear down.\n",
      "2022-01-22 14:01:37.945980: I tensorflow/core/profiler/rpc/client/save_profile.cc:136] Creating directory: logs/fits/20220122-140122/train/plugins/profile/2022_01_22_14_01_37\n",
      "\n",
      "2022-01-22 14:01:37.990652: I tensorflow/core/profiler/rpc/client/save_profile.cc:142] Dumped gzipped tool data for trace.json.gz to logs/fits/20220122-140122/train/plugins/profile/2022_01_22_14_01_37/893ac80ead6d.trace.json.gz\n",
      "2022-01-22 14:01:38.085691: I tensorflow/core/profiler/rpc/client/save_profile.cc:136] Creating directory: logs/fits/20220122-140122/train/plugins/profile/2022_01_22_14_01_37\n",
      "\n",
      "2022-01-22 14:01:38.093743: I tensorflow/core/profiler/rpc/client/save_profile.cc:142] Dumped gzipped tool data for memory_profile.json.gz to logs/fits/20220122-140122/train/plugins/profile/2022_01_22_14_01_37/893ac80ead6d.memory_profile.json.gz\n",
      "2022-01-22 14:01:38.097225: I tensorflow/core/profiler/rpc/client/capture_profile.cc:251] Creating directory: logs/fits/20220122-140122/train/plugins/profile/2022_01_22_14_01_37\n",
      "Dumped tool data for xplane.pb to logs/fits/20220122-140122/train/plugins/profile/2022_01_22_14_01_37/893ac80ead6d.xplane.pb\n",
      "Dumped tool data for overview_page.pb to logs/fits/20220122-140122/train/plugins/profile/2022_01_22_14_01_37/893ac80ead6d.overview_page.pb\n",
      "Dumped tool data for input_pipeline.pb to logs/fits/20220122-140122/train/plugins/profile/2022_01_22_14_01_37/893ac80ead6d.input_pipeline.pb\n",
      "Dumped tool data for tensorflow_stats.pb to logs/fits/20220122-140122/train/plugins/profile/2022_01_22_14_01_37/893ac80ead6d.tensorflow_stats.pb\n",
      "Dumped tool data for kernel_stats.pb to logs/fits/20220122-140122/train/plugins/profile/2022_01_22_14_01_37/893ac80ead6d.kernel_stats.pb\n",
      "\n"
     ]
    },
    {
     "name": "stdout",
     "output_type": "stream",
     "text": [
      "292/292 [==============================] - 120s 369ms/step - loss: 1.5300 - accuracy: 0.4452 - val_loss: 2.4241 - val_accuracy: 0.1175\n",
      "Epoch 2/10\n",
      "\n",
      "Epoch 00002: LearningRateScheduler setting learning rate to 0.0010000000474974513.\n",
      "292/292 [==============================] - 104s 355ms/step - loss: 1.0744 - accuracy: 0.6163 - val_loss: 1.8795 - val_accuracy: 0.3246\n",
      "Epoch 3/10\n",
      "\n",
      "Epoch 00003: LearningRateScheduler setting learning rate to 0.0010000000474974513.\n",
      "292/292 [==============================] - 105s 359ms/step - loss: 0.8668 - accuracy: 0.6926 - val_loss: 1.4325 - val_accuracy: 0.5725\n",
      "Epoch 4/10\n",
      "\n",
      "Epoch 00004: LearningRateScheduler setting learning rate to 0.0010000000474974513.\n",
      "292/292 [==============================] - 103s 352ms/step - loss: 0.7514 - accuracy: 0.7392 - val_loss: 0.9927 - val_accuracy: 0.6736\n",
      "Epoch 5/10\n",
      "\n",
      "Epoch 00005: LearningRateScheduler setting learning rate to 0.0009000000427477062.\n",
      "292/292 [==============================] - 103s 354ms/step - loss: 0.6752 - accuracy: 0.7661 - val_loss: 0.8762 - val_accuracy: 0.7059\n",
      "Epoch 6/10\n",
      "\n",
      "Epoch 00006: LearningRateScheduler setting learning rate to 0.0009000000427477062.\n",
      "292/292 [==============================] - 105s 359ms/step - loss: 0.6177 - accuracy: 0.7844 - val_loss: 0.9765 - val_accuracy: 0.6895\n",
      "Epoch 7/10\n",
      "\n",
      "Epoch 00007: LearningRateScheduler setting learning rate to 0.0009000000427477062.\n",
      "292/292 [==============================] - 105s 359ms/step - loss: 0.5691 - accuracy: 0.8008 - val_loss: 0.9785 - val_accuracy: 0.6909\n",
      "Epoch 8/10\n",
      "\n",
      "Epoch 00008: LearningRateScheduler setting learning rate to 0.0009000000427477062.\n",
      "292/292 [==============================] - 103s 353ms/step - loss: 0.5333 - accuracy: 0.8129 - val_loss: 0.9311 - val_accuracy: 0.7131\n",
      "Epoch 9/10\n",
      "\n",
      "Epoch 00009: LearningRateScheduler setting learning rate to 0.0009000000427477062.\n",
      "292/292 [==============================] - 104s 355ms/step - loss: 0.5149 - accuracy: 0.8189 - val_loss: 0.8201 - val_accuracy: 0.7449\n",
      "Epoch 10/10\n",
      "\n",
      "Epoch 00010: LearningRateScheduler setting learning rate to 0.0008100000384729356.\n",
      "292/292 [==============================] - 105s 359ms/step - loss: 0.4718 - accuracy: 0.8365 - val_loss: 0.5842 - val_accuracy: 0.7989\n"
     ]
    },
    {
     "data": {
      "text/plain": [
       "<keras.callbacks.History at 0x7f9f54d67fd0>"
      ]
     },
     "execution_count": 20,
     "metadata": {},
     "output_type": "execute_result"
    }
   ],
   "source": [
    "# determine Loss function and Optimizer\n",
    "model.compile(loss='categorical_crossentropy',\n",
    "              optimizer=Adam(),\n",
    "              metrics=['accuracy'])\n",
    "STEP_SIZE_TRAIN=train_generator.n//train_generator.batch_size\n",
    "STEP_SIZE_VALID=valid_generator.n//valid_generator.batch_size\n",
    "\n",
    "#Saving the best model\n",
    "filepath=\"model1/weights-{epoch:02d}-{val_accuracy:.4f}.hdf5\"\n",
    "checkpoint = ModelCheckpoint(filepath=filepath, monitor='val_accuracy',  verbose=1, save_best_only=True, mode='auto')\n",
    "\n",
    "#Tensorboard Callback\n",
    "!rm -rf ./logs/\n",
    "log_dir = os.path.join(\"logs\",'fits', datetime.datetime.now().strftime(\"%Y%m%d-%H%M%S\"))\n",
    "tensorboard_callback = tf.keras.callbacks.TensorBoard(log_dir=log_dir,histogram_freq=1,write_graph=True)\n",
    "\n",
    "callbacks = [lrschedule,reduce_lr, loss_terminate, earlystop,tensorboard_callback]\n",
    "model.fit_generator(generator=train_generator,steps_per_epoch=STEP_SIZE_TRAIN,\n",
    "                    validation_data=valid_generator,\n",
    "                    validation_steps=STEP_SIZE_VALID,\n",
    "                    epochs=10,callbacks=callbacks)"
   ]
  },
  {
   "cell_type": "code",
   "execution_count": 21,
   "id": "4fa06c91",
   "metadata": {
    "execution": {
     "iopub.execute_input": "2022-01-22T14:22:43.849047Z",
     "iopub.status.busy": "2022-01-22T14:22:43.847677Z",
     "iopub.status.idle": "2022-01-22T14:22:47.919575Z",
     "shell.execute_reply": "2022-01-22T14:22:47.919135Z",
     "shell.execute_reply.started": "2022-01-22T13:47:01.205163Z"
    },
    "id": "qugKEZ48K9K9",
    "outputId": "5dbcecd3-6434-43eb-e18f-5e45f26b862d",
    "papermill": {
     "duration": 4.938067,
     "end_time": "2022-01-22T14:22:47.919697",
     "exception": false,
     "start_time": "2022-01-22T14:22:42.981630",
     "status": "completed"
    },
    "tags": []
   },
   "outputs": [
    {
     "data": {
      "text/html": [
       "\n",
       "      <iframe id=\"tensorboard-frame-ac61ed5a2c27d1b\" width=\"100%\" height=\"800\" frameborder=\"0\">\n",
       "      </iframe>\n",
       "      <script>\n",
       "        (function() {\n",
       "          const frame = document.getElementById(\"tensorboard-frame-ac61ed5a2c27d1b\");\n",
       "          const url = new URL(\"/\", window.location);\n",
       "          const port = 6006;\n",
       "          if (port) {\n",
       "            url.port = port;\n",
       "          }\n",
       "          frame.src = url;\n",
       "        })();\n",
       "      </script>\n",
       "    "
      ],
      "text/plain": [
       "<IPython.core.display.HTML object>"
      ]
     },
     "metadata": {},
     "output_type": "display_data"
    }
   ],
   "source": [
    "%tensorboard --logdir logs --bind_all"
   ]
  },
  {
   "cell_type": "code",
   "execution_count": 22,
   "id": "e831d129",
   "metadata": {
    "execution": {
     "iopub.execute_input": "2022-01-22T14:22:49.536205Z",
     "iopub.status.busy": "2022-01-22T14:22:49.533619Z",
     "iopub.status.idle": "2022-01-22T14:22:49.579595Z",
     "shell.execute_reply": "2022-01-22T14:22:49.579168Z",
     "shell.execute_reply.started": "2022-01-22T13:54:38.427528Z"
    },
    "papermill": {
     "duration": 0.851146,
     "end_time": "2022-01-22T14:22:49.579716",
     "exception": false,
     "start_time": "2022-01-22T14:22:48.728570",
     "status": "completed"
    },
    "tags": []
   },
   "outputs": [],
   "source": [
    "testDatagen=ImageDataGenerator(rescale=1./255.)\n",
    "test_generator=testDatagen.flow(\n",
    "    X_test,y_test,batch_size=1\n",
    ")"
   ]
  },
  {
   "cell_type": "code",
   "execution_count": 23,
   "id": "1f9aa081",
   "metadata": {
    "execution": {
     "iopub.execute_input": "2022-01-22T14:22:51.223659Z",
     "iopub.status.busy": "2022-01-22T14:22:51.222675Z",
     "iopub.status.idle": "2022-01-22T14:24:44.629317Z",
     "shell.execute_reply": "2022-01-22T14:24:44.629727Z",
     "shell.execute_reply.started": "2022-01-22T13:54:41.492750Z"
    },
    "id": "LY-MuQXXsabE",
    "papermill": {
     "duration": 114.248902,
     "end_time": "2022-01-22T14:24:44.629884",
     "exception": false,
     "start_time": "2022-01-22T14:22:50.380982",
     "status": "completed"
    },
    "tags": []
   },
   "outputs": [
    {
     "name": "stdout",
     "output_type": "stream",
     "text": [
      "10000/10000 [==============================] - 113s 11ms/step - loss: 0.5558 - accuracy: 0.8158\n",
      "Test loss: 0.5558121800422668\n",
      "Test accuracy: 0.8158000111579895\n"
     ]
    }
   ],
   "source": [
    "# Test the model\n",
    "score = model.evaluate(test_generator, verbose=1)\n",
    "print('Test loss:', score[0])\n",
    "print('Test accuracy:', score[1])"
   ]
  },
  {
   "cell_type": "code",
   "execution_count": 24,
   "id": "551aa3d0",
   "metadata": {
    "execution": {
     "iopub.execute_input": "2022-01-22T14:24:47.370786Z",
     "iopub.status.busy": "2022-01-22T14:24:47.369201Z",
     "iopub.status.idle": "2022-01-22T14:24:47.372786Z",
     "shell.execute_reply": "2022-01-22T14:24:47.372355Z",
     "shell.execute_reply.started": "2022-01-22T13:47:14.181708Z"
    },
    "papermill": {
     "duration": 1.410358,
     "end_time": "2022-01-22T14:24:47.372895",
     "exception": false,
     "start_time": "2022-01-22T14:24:45.962537",
     "status": "completed"
    },
    "tags": []
   },
   "outputs": [
    {
     "data": {
      "text/plain": [
       "array([0., 0., 0., 0., 0., 0., 1., 0., 0., 0.], dtype=float32)"
      ]
     },
     "execution_count": 24,
     "metadata": {},
     "output_type": "execute_result"
    }
   ],
   "source": [
    "y_test[5]"
   ]
  },
  {
   "cell_type": "code",
   "execution_count": 25,
   "id": "0932fee3",
   "metadata": {
    "execution": {
     "iopub.execute_input": "2022-01-22T14:24:50.139732Z",
     "iopub.status.busy": "2022-01-22T14:24:50.138844Z",
     "iopub.status.idle": "2022-01-22T14:24:50.409879Z",
     "shell.execute_reply": "2022-01-22T14:24:50.409315Z",
     "shell.execute_reply.started": "2022-01-22T13:47:14.192313Z"
    },
    "id": "2-5e4XIesdvm",
    "papermill": {
     "duration": 1.639468,
     "end_time": "2022-01-22T14:24:50.410032",
     "exception": false,
     "start_time": "2022-01-22T14:24:48.770564",
     "status": "completed"
    },
    "tags": []
   },
   "outputs": [
    {
     "name": "stdout",
     "output_type": "stream",
     "text": [
      "Saved model to disk\n"
     ]
    }
   ],
   "source": [
    "# Save the trained weights in to .h5 format\n",
    "model.save_weights(\"DNST_model.h5\")\n",
    "print(\"Saved model to disk\")"
   ]
  }
 ],
 "metadata": {
  "kernelspec": {
   "display_name": "Python 3",
   "language": "python",
   "name": "python3"
  },
  "language_info": {
   "codemirror_mode": {
    "name": "ipython",
    "version": 3
   },
   "file_extension": ".py",
   "mimetype": "text/x-python",
   "name": "python",
   "nbconvert_exporter": "python",
   "pygments_lexer": "ipython3",
   "version": "3.7.12"
  },
  "papermill": {
   "default_parameters": {},
   "duration": 1441.447234,
   "end_time": "2022-01-22T14:24:55.263181",
   "environment_variables": {},
   "exception": null,
   "input_path": "__notebook__.ipynb",
   "output_path": "__notebook__.ipynb",
   "parameters": {},
   "start_time": "2022-01-22T14:00:53.815947",
   "version": "2.3.3"
  }
 },
 "nbformat": 4,
 "nbformat_minor": 5
}
